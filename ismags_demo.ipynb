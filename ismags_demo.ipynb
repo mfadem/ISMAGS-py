{
 "cells": [
  {
   "cell_type": "markdown",
   "metadata": {},
   "source": [
    "## PYTHON ISMAGS Syntax\n",
    "\n",
    "```python\n",
    "python cli.py [-h] [-f FOLDER] -l LINK_TYPES -n NETWORKS -m MOTIF_DESCRIPTION -o OUTPUT\n",
    "```\n",
    "\n",
    "- **Folder** is the path containing network files.\n",
    "- **LINK_TYPES** are separated by commas e.g. \\\"A u t t\\\" or \\\"A u t t,B d t t\\\"\n",
    "- **NETWORKS** are separated by commas e.g. file1.txt or file1.txt,file2.txt\n",
    "- **MOTIF_DESCRIPTION** e.g. AA0A00 is a 3-star where all the connections are of type 'A'\n",
    "- **OUTPUT** is the output file name.\n",
    "- Note: at the command line type 'python cli.py -h' to obtain the above information."
   ]
  },
  {
   "cell_type": "markdown",
   "metadata": {},
   "source": [
    "# First Small Example\n",
    "\n",
    "3-STAR with hub node distinct from the spokes and edges of one type\n",
    "\n",
    "Plotted below is the motif which is color-coded by node and edge type."
   ]
  },
  {
   "cell_type": "code",
   "execution_count": null,
   "metadata": {},
   "outputs": [],
   "source": [
    "from __future__ import annotations\n",
    "\n",
    "import matplotlib.image as mpimg\n",
    "import matplotlib.pyplot as plt\n",
    "\n",
    "%matplotlib inline\n",
    "\n",
    "motif1_img = mpimg.imread(\"images/motif1.png\")\n",
    "plt.imshow(motif1_img)"
   ]
  },
  {
   "cell_type": "code",
   "execution_count": null,
   "metadata": {},
   "outputs": [],
   "source": [
    "%run ismags/cli/cli.py -f 'tests/test_data/' -l \"A d t t\" -n 'graph1_Ad.txt' -m AA0A00 -o 'graph1.out'"
   ]
  },
  {
   "cell_type": "markdown",
   "metadata": {},
   "source": [
    "## Second Example\n",
    "3-STAR with one spoke node distinct from rest and edges of two types"
   ]
  },
  {
   "cell_type": "code",
   "execution_count": null,
   "metadata": {},
   "outputs": [],
   "source": [
    "motif2_img = mpimg.imread(\"images/motif2.png\")\n",
    "plt.imshow(motif2_img)"
   ]
  },
  {
   "cell_type": "code",
   "execution_count": null,
   "metadata": {},
   "outputs": [],
   "source": [
    "%run ismags/cli/cli.py -f 'tests/test_data/' -l \"A d t t,B u t t\" -n 'graph2_Ad.txt,graph2_Bu.txt' -m AB0B00 -o 'graph2.out'"
   ]
  },
  {
   "cell_type": "markdown",
   "metadata": {},
   "source": [
    "## Third Example\n",
    "\n",
    "Ensemble with all distinct node types and two edge types"
   ]
  },
  {
   "cell_type": "code",
   "execution_count": null,
   "metadata": {},
   "outputs": [],
   "source": [
    "motif3_img = mpimg.imread(\"images/motif3.png\")\n",
    "plt.imshow(motif3_img)"
   ]
  },
  {
   "cell_type": "code",
   "execution_count": null,
   "metadata": {},
   "outputs": [],
   "source": [
    "%run ismags/cli/cli.py -f 'tests/test_data/' -l \"A d t t,B d t t,C d t t,D d t t,E d t t,F d t t\" \\\n",
    "-n 'graph3_Ad.txt,graph3_Bd.txt,graph3_Cd.txt,graph3_Dd.txt,graph3_Ed.txt,graph3_Fd.txt' \\\n",
    "-m AB00C00F0000E0000D000 -o 'graph3.out'"
   ]
  },
  {
   "cell_type": "markdown",
   "metadata": {},
   "source": [
    "## Fourth Example\n",
    "\n",
    "Ensemble with many edge types"
   ]
  },
  {
   "cell_type": "code",
   "execution_count": null,
   "metadata": {},
   "outputs": [],
   "source": [
    "motif4_img = mpimg.imread(\"images/motif4.png\")\n",
    "plt.imshow(motif4_img)"
   ]
  },
  {
   "cell_type": "code",
   "execution_count": null,
   "metadata": {},
   "outputs": [],
   "source": [
    "%run ismags/cli/cli.py -f 'tests/test_data/' -l \"A d t t,B d t t,C d t t,D u t t\" \\\n",
    "-n 'graph4_Ad.txt,graph4_Bd.txt,graph4_Cd.txt,graph4_Du.txt' \\\n",
    "-m ABDC00 -o 'graph4.out'"
   ]
  },
  {
   "cell_type": "markdown",
   "metadata": {},
   "source": [
    "## Fifth Example\n",
    "\n",
    "Searching in a Multi-graph network (more than one connection between nodes)"
   ]
  },
  {
   "cell_type": "code",
   "execution_count": null,
   "metadata": {},
   "outputs": [],
   "source": [
    "motif5_img = mpimg.imread(\"images/motif5.png\")\n",
    "plt.imshow(motif5_img)"
   ]
  },
  {
   "cell_type": "code",
   "execution_count": null,
   "metadata": {},
   "outputs": [],
   "source": [
    "%run ismags/cli/cli.py -f 'tests/test_data/' -l \"A d t t,B d t t,C d t t\" \\\n",
    "-n 'graph5_Ad.txt,graph5_Bd.txt,graph5_Cd.txt' \\\n",
    "-m AB0C00 -o 'graph5.out'"
   ]
  },
  {
   "cell_type": "code",
   "execution_count": null,
   "metadata": {},
   "outputs": [],
   "source": []
  }
 ],
 "metadata": {
  "kernelspec": {
   "display_name": "Python 3 (ipykernel)",
   "language": "python",
   "name": "python3"
  },
  "language_info": {
   "codemirror_mode": {
    "name": "ipython",
    "version": 3
   },
   "file_extension": ".py",
   "mimetype": "text/x-python",
   "name": "python",
   "nbconvert_exporter": "python",
   "pygments_lexer": "ipython3",
   "version": "3.12.0"
  },
  "vscode": {
   "interpreter": {
    "hash": "c26fa916e7e62e0e5d7d10ec988110f204859c816207ea1c4afb9fc1f2577ff0"
   }
  }
 },
 "nbformat": 4,
 "nbformat_minor": 2
}
